{
  "nbformat": 4,
  "nbformat_minor": 0,
  "metadata": {
    "colab": {
      "provenance": [],
      "authorship_tag": "ABX9TyMa71DOCst6c0jf70edaDWL",
      "include_colab_link": true
    },
    "kernelspec": {
      "name": "python3",
      "display_name": "Python 3"
    },
    "language_info": {
      "name": "python"
    }
  },
  "cells": [
    {
      "cell_type": "markdown",
      "metadata": {
        "id": "view-in-github",
        "colab_type": "text"
      },
      "source": [
        "<a href=\"https://colab.research.google.com/github/MayukhaI12/Assignment6/blob/Main/Untitled0.ipynb\" target=\"_parent\"><img src=\"https://colab.research.google.com/assets/colab-badge.svg\" alt=\"Open In Colab\"/></a>"
      ]
    },
    {
      "cell_type": "markdown",
      "source": [
        "# Distance Traveled\n",
        "\n",
        "The distance a vehicle travels can be calculated as follows:\n",
        "\n",
        "distan⁡ce = speed × time\n",
        "\n",
        "For example, if a train travels 40 miles per hour for three hours, the distance traveled is 120 miles. \n",
        "\n",
        "Write a program that asks the user for the speed of a vehicle (in miles per hour) and the number of hours it has traveled.\n",
        "\n",
        "It should then use a loop to display the distance the vehicle has\n",
        "traveled for each hour of that time period. Here is an example of the desired output:\n",
        "\n",
        "What is the speed of the vehicle in mph? 40\n",
        "\n",
        "How many hours has it traveled? 3\n",
        "\n",
        "Hour Distance Traveled\n",
        "\n",
        "1 40\n",
        "\n",
        "2 80\n",
        "\n",
        "3 120"
      ],
      "metadata": {
        "id": "zVCtJfBvOfXQ"
      }
    },
    {
      "cell_type": "code",
      "execution_count": 11,
      "metadata": {
        "colab": {
          "base_uri": "https://localhost:8080/"
        },
        "id": "Daco19wYNpTw",
        "outputId": "1641150a-fa8c-42e6-ebc3-da0bcedbac3e"
      },
      "outputs": [
        {
          "output_type": "stream",
          "name": "stdout",
          "text": [
            "Enter the speed of your vehicle (Miles per hour): 20\n",
            "Enter the number of hours it took to reach your destination: 5\n",
            "Distance travelled in  1  hour = 20.0 Miles\n",
            "Distance travelled in  2  hour = 40.0 Miles\n",
            "Distance travelled in  3  hour = 60.0 Miles\n",
            "Distance travelled in  4  hour = 80.0 Miles\n",
            "Distance travelled in  5  hour = 100.0 Miles\n"
          ]
        }
      ],
      "source": [
        "speed = float(input(\"Enter the speed of your vehicle (Miles per hour): \"))\n",
        "time = int(input('Enter the number of hours it took to reach your destination: '))\n",
        "\n",
        "for i in range (1,time+1):\n",
        "  print(\"Distance travelled in \", i ,' hour =', speed * i , \"Miles\")\n",
        "\n"
      ]
    },
    {
      "cell_type": "code",
      "source": [],
      "metadata": {
        "id": "bNk4W0nMQDc9"
      },
      "execution_count": null,
      "outputs": []
    }
  ]
}